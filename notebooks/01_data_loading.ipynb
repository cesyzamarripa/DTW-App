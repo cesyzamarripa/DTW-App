import numpy as np

def dtw_distance(series1, series2):
    n, m = len(series1), len(series2)
    dtw = np.zeros((n+1, m+1))
    dtw[0, :] = np.inf
    dtw[:, 0] = np.inf
    dtw[0, 0] = 0

    for i in range(1, n+1):
        for j in range(1, m+1):
            cost = abs(series1[i-1] - series2[j-1])
            dtw[i, j] = cost + min(dtw[i-1, j], dtw[i, j-1], dtw[i-1, j-1])

    return dtw[n, m]

a = [1, 2, 3, 4, 5]
b = [2, 3, 4]

print("DTW distance:", dtw_distance(a, b))

import numpy as np  # Import NumPy for numerical operations

def generate_sine_wave(length=50, freq=1, noise_level=0.1):
    """
    Generates a synthetic time series based on a sine wave. could be any evenly space function, sine wave was chosen.

    Parameters:
    - length: Number of data points in the series
    - freq: Frequency of the sine wave (controls how fast it oscillates)
    - noise_level: Amount of random noise added to simulate real-world variation

    Returns:
    - A list of float values representing the noisy sine wave
    """

    # Create evenly spaced time steps from 0 to 2π × frequency
    x = np.linspace(0, 2 * np.pi * freq, length)

    # Generate sine wave values and add Gaussian noise
    y = np.sin(x) + noise_level * np.random.randn(length)

    # Convert NumPy array to regular Python list for compatibility
    return y.tolist()

# Generate multiple synthetic time series with different oscillating times
series1 = generate_sine_wave()  # Base series
series2 = generate_sine_wave(freq=1.2)  # Slightly faster oscillation
series3 = generate_sine_wave(freq=0.8)  # Slightly slower oscillation
series4 = generate_sine_wave(noise_level=0.3)  # More noise added

# Run DTW on different pairs and print results
print("DTW 1 vs 2:", dtw_distance(series1, series2))
print("DTW 1 vs 3:", dtw_distance(series1, series3))
print("DTW 1 vs 4:", dtw_distance(series1, series4))
