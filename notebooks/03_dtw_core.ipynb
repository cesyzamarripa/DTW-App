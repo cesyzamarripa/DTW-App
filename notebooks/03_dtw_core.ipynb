{
  "nbformat": 4,
  "nbformat_minor": 0,
  "metadata": {
    "colab": {
      "provenance": []
    },
    "kernelspec": {
      "name": "python3",
      "display_name": "Python 3"
    },
    "language_info": {
      "name": "python"
    }
  },
  "cells": [
    {
      "cell_type": "code",
      "execution_count": 6,
      "metadata": {
        "colab": {
          "base_uri": "https://localhost:8080/"
        },
        "id": "NgnANdMEzvnj",
        "outputId": "b13dae45-196e-4185-9df6-011309f0963f"
      },
      "outputs": [
        {
          "output_type": "stream",
          "name": "stdout",
          "text": [
            "DTW distance: 2.0\n",
            "DTW 1 vs 2: 8.489328451695094\n",
            "DTW 1 vs 3: 8.044914396193729\n",
            "DTW 1 vs 4: 11.271876466738544\n"
          ]
        }
      ],
      "source": [
        "import numpy as np\n",
        "\n",
        "def dtw_distance(series1, series2):\n",
        "    n, m = len(series1), len(series2)\n",
        "    dtw = np.zeros((n+1, m+1))\n",
        "    dtw[0, :] = np.inf\n",
        "    dtw[:, 0] = np.inf\n",
        "    dtw[0, 0] = 0\n",
        "\n",
        "    for i in range(1, n+1):\n",
        "        for j in range(1, m+1):\n",
        "            cost = abs(series1[i-1] - series2[j-1])\n",
        "            dtw[i, j] = cost + min(dtw[i-1, j], dtw[i, j-1], dtw[i-1, j-1])\n",
        "\n",
        "    return dtw[n, m]\n",
        "\n",
        "a = [1, 2, 3, 4, 5]\n",
        "b = [2, 3, 4]\n",
        "\n",
        "print(\"DTW distance:\", dtw_distance(a, b))\n",
        "\n",
        "import numpy as np  # Import NumPy for numerical operations\n",
        "\n",
        "def generate_sine_wave(length=50, freq=1, noise_level=0.1):\n",
        "    \"\"\"\n",
        "    Generates a synthetic time series based on a sine wave. could be any evenly space function, sine wave was chosen.\n",
        "\n",
        "    Parameters:\n",
        "    - length: Number of data points in the series\n",
        "    - freq: Frequency of the sine wave (controls how fast it oscillates)\n",
        "    - noise_level: Amount of random noise added to simulate real-world variation\n",
        "\n",
        "    Returns:\n",
        "    - A list of float values representing the noisy sine wave\n",
        "    \"\"\"\n",
        "\n",
        "    # Create evenly spaced time steps from 0 to 2π × frequency\n",
        "    x = np.linspace(0, 2 * np.pi * freq, length)\n",
        "\n",
        "    # Generate sine wave values and add Gaussian noise\n",
        "    y = np.sin(x) + noise_level * np.random.randn(length)\n",
        "\n",
        "    # Convert NumPy array to regular Python list for compatibility\n",
        "    return y.tolist()\n",
        "\n",
        "# Generate multiple synthetic time series with different oscillating times\n",
        "series1 = generate_sine_wave()  # Base series\n",
        "series2 = generate_sine_wave(freq=1.2)  # Slightly faster oscillation\n",
        "series3 = generate_sine_wave(freq=0.8)  # Slightly slower oscillation\n",
        "series4 = generate_sine_wave(noise_level=0.3)  # More noise added\n",
        "\n",
        "# Run DTW on different pairs and print results\n",
        "print(\"DTW 1 vs 2:\", dtw_distance(series1, series2))\n",
        "print(\"DTW 1 vs 3:\", dtw_distance(series1, series3))\n",
        "print(\"DTW 1 vs 4:\", dtw_distance(series1, series4))"
      ]
    }
  ]
}